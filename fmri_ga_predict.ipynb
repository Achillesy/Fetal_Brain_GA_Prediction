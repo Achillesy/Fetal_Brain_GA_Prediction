{
  "cells": [
    {
      "cell_type": "markdown",
      "metadata": {
        "id": "view-in-github",
        "colab_type": "text"
      },
      "source": [
        "<a href=\"https://colab.research.google.com/github/Achillesy/Fetal_Brain_GA_Prediction/blob/master/fmri_ga_predict.ipynb\" target=\"_parent\"><img src=\"https://colab.research.google.com/assets/colab-badge.svg\" alt=\"Open In Colab\"/></a>"
      ]
    },
    {
      "cell_type": "markdown",
      "metadata": {
        "id": "j09lPZQqdzIL"
      },
      "source": [
        "# Gestational age prediction using fetal brain MRI\n",
        "## Head circumference-based approach\n",
        "\n"
      ]
    },
    {
      "cell_type": "markdown",
      "metadata": {
        "id": "XKlCTgZQgaRV"
      },
      "source": [
        "## Please upload your Fetal Functional MRI files"
      ]
    },
    {
      "cell_type": "markdown",
      "source": [
        "This program allows users to upload multiple fMRI images at once and predict gestational age based on head circumference.\n",
        "\n",
        "The predicted value is calculated using an empirical formula, which can be customized by the user.\n",
        "\n",
        "The program code and predicted values are for research and academic purposes only. **They should not be used for commercial applications.**"
      ],
      "metadata": {
        "id": "xftackvoKk3f"
      }
    },
    {
      "cell_type": "markdown",
      "metadata": {
        "id": "gfVakLRprliM"
      },
      "source": [
        "![upload_guide](https://github.com/Achillesy/Fetal_Functional_MRI_Segmentation/blob/master/figures/upload_guide.png?raw=1)\n",
        "\n",
        "1. Click the **Files** icon on the left\n",
        "2. Click the **Upload to session storage** icon above\n",
        "3. Your uploaded files will be displayed here\n",
        "\n",
        "----\n",
        "After double-checking your uploaded files, by <font color=\"green\">pressing the **Enter** key in the input box below</font>, the fMRI mask will be automatically generated in a short time."
      ]
    },
    {
      "cell_type": "code",
      "source": [
        "input()"
      ],
      "metadata": {
        "id": "-LlnbZCXVk5r"
      },
      "execution_count": null,
      "outputs": []
    },
    {
      "cell_type": "markdown",
      "metadata": {
        "id": "vdwr3buiz3tz"
      },
      "source": [
        "## Install ![monai](https://monai.io/assets/img/MONAI-logo_color.png) and check environment variables"
      ]
    },
    {
      "cell_type": "code",
      "execution_count": null,
      "metadata": {
        "execution": {
          "iopub.execute_input": "2023-06-13T13:52:50.929683Z",
          "iopub.status.busy": "2023-06-13T13:52:50.929683Z",
          "iopub.status.idle": "2023-06-13T13:52:50.942680Z",
          "shell.execute_reply": "2023-06-13T13:52:50.941679Z",
          "shell.execute_reply.started": "2023-06-13T13:52:50.929683Z"
        },
        "id": "DD8b1scpLgIA"
      },
      "outputs": [],
      "source": [
        "!pip install monai\n",
        "\n",
        "from monai.config import print_config\n",
        "print_config()\n"
      ]
    },
    {
      "cell_type": "code",
      "execution_count": null,
      "metadata": {
        "execution": {
          "iopub.execute_input": "2023-06-13T13:52:50.943680Z",
          "iopub.status.busy": "2023-06-13T13:52:50.943680Z",
          "iopub.status.idle": "2023-06-13T13:52:52.495848Z",
          "shell.execute_reply": "2023-06-13T13:52:52.493784Z",
          "shell.execute_reply.started": "2023-06-13T13:52:50.943680Z"
        },
        "id": "hvYoA-BrGwp_"
      },
      "outputs": [],
      "source": [
        "import os\n",
        "import numpy as np\n",
        "import nibabel as nib\n",
        "from glob import glob\n",
        "\n",
        "import torch\n",
        "from types import SimpleNamespace\n",
        "\n",
        "cfg = SimpleNamespace(**{})\n",
        "cfg.pixdim = (3.5, 3.5, 3.5)\n",
        "cfg.roi_size = [64, 64, 64]\n",
        "cfg.sw_batch_size = 4\n",
        "cfg.file_pth = \"fold4_train_metric_vnet.pth\"\n",
        "\n",
        "cfg.mri_dir = \"mri\"\n",
        "cfg.mask_dir = \"mask\"\n",
        "os.makedirs(cfg.mri_dir, exist_ok=True)\n",
        "os.makedirs(cfg.mask_dir, exist_ok=True)\n",
        "\n",
        "cfg.device = torch.device(\"cuda:0\" if torch.cuda.is_available() else \"cpu\")\n"
      ]
    },
    {
      "cell_type": "markdown",
      "metadata": {
        "id": "EP4q1W8A0aBa"
      },
      "source": [
        "## Load VNet model and parameters"
      ]
    },
    {
      "cell_type": "code",
      "execution_count": null,
      "metadata": {
        "execution": {
          "iopub.execute_input": "2023-06-13T13:52:50.907428Z",
          "iopub.status.busy": "2023-06-13T13:52:50.907428Z",
          "iopub.status.idle": "2023-06-13T13:52:50.926697Z",
          "shell.execute_reply": "2023-06-13T13:52:50.925684Z",
          "shell.execute_reply.started": "2023-06-13T13:52:50.907428Z"
        },
        "id": "QajrY-mkfbx2"
      },
      "outputs": [],
      "source": [
        "!wget https://github.com/Achillesy/Fetal_Functional_MRI_Segmentation/releases/download/v1.0.0/fold4_train_metric_vnet.pth"
      ]
    },
    {
      "cell_type": "code",
      "execution_count": null,
      "metadata": {
        "execution": {
          "iopub.execute_input": "2023-06-13T13:52:52.498916Z",
          "iopub.status.busy": "2023-06-13T13:52:52.497846Z",
          "iopub.status.idle": "2023-06-13T13:52:58.150430Z",
          "shell.execute_reply": "2023-06-13T13:52:58.148432Z",
          "shell.execute_reply.started": "2023-06-13T13:52:52.498916Z"
        },
        "id": "BTEnbatnLSXr"
      },
      "outputs": [],
      "source": [
        "from monai.networks.nets import VNet\n",
        "\n",
        "model = VNet(\n",
        "  spatial_dims=3,\n",
        "  in_channels=1,\n",
        "  out_channels=2,\n",
        "  act=(\"elu\", {\"inplace\": True}),\n",
        "  dropout_dim=3,\n",
        "  bias=False,\n",
        ").to(cfg.device)\n",
        "model.load_state_dict(torch.load(cfg.file_pth, cfg.device))\n"
      ]
    },
    {
      "cell_type": "code",
      "execution_count": null,
      "metadata": {
        "execution": {
          "iopub.execute_input": "2023-06-13T15:40:21.895917Z",
          "iopub.status.busy": "2023-06-13T15:40:21.893910Z",
          "iopub.status.idle": "2023-06-13T15:40:21.932681Z",
          "shell.execute_reply": "2023-06-13T15:40:21.929670Z",
          "shell.execute_reply.started": "2023-06-13T15:40:21.894906Z"
        },
        "id": "I_pwLzSNLOQ2"
      },
      "outputs": [],
      "source": [
        "from monai.transforms import (\n",
        "  AsDiscreted,\n",
        "  Compose,\n",
        "  EnsureChannelFirstd,\n",
        "  Invertd,\n",
        "  LoadImaged,\n",
        "  NormalizeIntensityd,\n",
        "  Orientationd,\n",
        "  SaveImaged,\n",
        "  Spacingd,\n",
        ")\n",
        "\n",
        "test_transforms = Compose(\n",
        "  [\n",
        "    LoadImaged(keys=[\"image\"], image_only=True),\n",
        "    EnsureChannelFirstd(keys=[\"image\"]),\n",
        "    Orientationd(keys=[\"image\"], axcodes=\"RAS\"),\n",
        "    Spacingd(keys=[\"image\"], pixdim=cfg.pixdim, mode=\"bilinear\"),\n",
        "    NormalizeIntensityd(keys=\"image\", nonzero=True),\n",
        "  ]\n",
        ")\n",
        "\n",
        "post_transforms = Compose(\n",
        "  [\n",
        "    AsDiscreted(keys=\"pred\", argmax=True),\n",
        "  ]\n",
        ")"
      ]
    },
    {
      "cell_type": "markdown",
      "metadata": {
        "id": "txPF0mKF1aZi"
      },
      "source": [
        "## Split the uploaded file into multiple 3D MRI files"
      ]
    },
    {
      "cell_type": "code",
      "execution_count": null,
      "metadata": {
        "execution": {
          "iopub.execute_input": "2023-06-13T13:52:58.201431Z",
          "iopub.status.busy": "2023-06-13T13:52:58.201431Z",
          "iopub.status.idle": "2023-06-13T13:52:59.058837Z",
          "shell.execute_reply": "2023-06-13T13:52:59.057835Z",
          "shell.execute_reply.started": "2023-06-13T13:52:58.201431Z"
        },
        "id": "2z_9HOboPQky"
      },
      "outputs": [],
      "source": [
        "frmi_files = glob(\"*.nii.gz\")\n",
        "for fmri_data in frmi_files:\n",
        "  fmri_data_name = os.path.basename(fmri_data).replace(\".nii.gz\", \"\")\n",
        "  image = nib.load(fmri_data)\n",
        "  data = image.get_fdata()\n",
        "  if len(data.shape) != 4:\n",
        "    raise ValueError(\"Invalid shape of fMRI file format. Expected 4D shape: [x, y, z, t]\")\n",
        "  channel_list = np.split(data, data.shape[-1], axis=-1)\n",
        "  for i, channel in enumerate(channel_list):\n",
        "    channel_image = nib.Nifti1Image(channel, image.affine)\n",
        "    channel_file_name = os.path.join(cfg.mri_dir, f\"{fmri_data_name}_{i+1}.nii.gz\")\n",
        "    nib.save(channel_image, channel_file_name)\n"
      ]
    },
    {
      "cell_type": "code",
      "execution_count": null,
      "metadata": {
        "execution": {
          "iopub.execute_input": "2023-06-13T13:52:59.060837Z",
          "iopub.status.busy": "2023-06-13T13:52:59.060837Z",
          "iopub.status.idle": "2023-06-13T13:52:59.075841Z",
          "shell.execute_reply": "2023-06-13T13:52:59.073835Z",
          "shell.execute_reply.started": "2023-06-13T13:52:59.060837Z"
        },
        "id": "UwGKtCioPYwx"
      },
      "outputs": [],
      "source": [
        "test_files = []\n",
        "rmi_files = glob(os.path.join(cfg.mri_dir, \"*.nii.gz\"))\n",
        "for f_file in rmi_files:\n",
        "  test_files.append({\"image\": f_file})\n",
        "# print(test_files)\n",
        "for file in test_files:\n",
        "    print(file['image'])"
      ]
    },
    {
      "cell_type": "markdown",
      "metadata": {
        "id": "214XWdsQ1-WD"
      },
      "source": [
        "## Generate MRI Mask and Predict Gestational Age"
      ]
    },
    {
      "cell_type": "code",
      "execution_count": null,
      "metadata": {
        "execution": {
          "iopub.execute_input": "2023-06-13T13:52:59.079837Z",
          "iopub.status.busy": "2023-06-13T13:52:59.078838Z",
          "iopub.status.idle": "2023-06-13T13:52:59.090837Z",
          "shell.execute_reply": "2023-06-13T13:52:59.089836Z",
          "shell.execute_reply.started": "2023-06-13T13:52:59.079837Z"
        },
        "id": "rxSmofwbPaoi"
      },
      "outputs": [],
      "source": [
        "from monai.inferers import sliding_window_inference\n",
        "from monai.data import DataLoader, Dataset, decollate_batch\n",
        "\n",
        "test_ds = Dataset(data=test_files, transform=test_transforms)\n",
        "test_loader = DataLoader(test_ds, batch_size=1)\n"
      ]
    },
    {
      "cell_type": "markdown",
      "metadata": {
        "id": "nOB0RZGVnX_g"
      },
      "source": [
        "### Obtain GA correlation coefficients FOP, BPD, HC\n",
        "\n",
        "Before making GA predictions, please make sure that the default orientation of the fMRI you upload is correct after MONAI conversion:\n",
        "``` python\n",
        "  Orientationd(keys=[\"image\"], axcodes=\"RAS\"),\n",
        "  Spacingd(keys=[\"image\"], pixdim=cfg.pixdim, mode=\"bilinear\")\n",
        "\n",
        "```\n",
        "The direction is adjusted to RAS, and the pixdim is adjusted to (3.5, 3.5, 3.5)\n",
        "\n",
        "Otherwise, open the debug code section and check the output image..\n"
      ]
    },
    {
      "cell_type": "code",
      "execution_count": null,
      "metadata": {
        "execution": {
          "iopub.execute_input": "2023-06-13T16:17:39.995816Z",
          "iopub.status.busy": "2023-06-13T16:17:39.994901Z",
          "iopub.status.idle": "2023-06-13T16:17:40.029140Z",
          "shell.execute_reply": "2023-06-13T16:17:40.026147Z",
          "shell.execute_reply.started": "2023-06-13T16:17:39.995816Z"
        },
        "id": "Z5TiYpMhnX_g"
      },
      "outputs": [],
      "source": [
        "import cv2\n",
        "\n",
        "def get_GA_Coefficinet(mask_data):\n",
        "  mask_data[mask_data != 0] = 1\n",
        "  sum_z_mask = np.sum(mask_data, axis=(0, 1))\n",
        "  z_index = np.argmax(sum_z_mask)\n",
        "  ax_mask = mask_data[:, :, z_index]\n",
        "  # ax_img  = img_data[:, :, z_index]\n",
        "  contours, _ = cv2.findContours(ax_mask.astype(\"uint8\"), cv2.RETR_EXTERNAL, cv2.CHAIN_APPROX_NONE)\n",
        "  max_area = 0\n",
        "  for contour in contours:\n",
        "    area = cv2.contourArea(contour)\n",
        "    if area > max_area:\n",
        "      max_area = area\n",
        "      max_contour = contour\n",
        "  hull = cv2.convexHull(max_contour)\n",
        "  perimeter = cv2.arcLength(hull, True)\n",
        "  rect = cv2.minAreaRect(max_contour)\n",
        "  fod = max(rect[1])\n",
        "  bpd = min(rect[1])\n",
        "\n",
        "  c_X = rect[0][0]\n",
        "  c_Y = rect[0][1]\n",
        "  H = rect[1][0]\n",
        "  W = rect[1][1]\n",
        "  V = min(H, W)\n",
        "  A = rect[2] - 90\n",
        "  R = np.sqrt(W*W + H*H) /2\n",
        "  alpha = np.arctan(W/H)\n",
        "  theta = A*np.pi/180\n",
        "  gamma = np.pi/2 - alpha + theta\n",
        "  X = c_X - R*np.cos(gamma)\n",
        "  Y = c_Y - R*np.sin(gamma)\n",
        "\n",
        "  return z_index, fod, bpd, perimeter, X, Y, W, H, A, hull\n"
      ]
    },
    {
      "cell_type": "markdown",
      "metadata": {
        "id": "PO4LuoppnX_h"
      },
      "source": [
        "### Customize the empirical formula for calculating gestational age based on head circumference (in-to-in)"
      ]
    },
    {
      "cell_type": "code",
      "execution_count": null,
      "metadata": {
        "execution": {
          "iopub.execute_input": "2023-06-13T16:17:40.372008Z",
          "iopub.status.busy": "2023-06-13T16:17:40.370011Z",
          "iopub.status.idle": "2023-06-13T16:17:40.387617Z",
          "shell.execute_reply": "2023-06-13T16:17:40.385067Z",
          "shell.execute_reply.started": "2023-06-13T16:17:40.372008Z"
        },
        "id": "Zj7I0pQ8nX_h"
      },
      "outputs": [],
      "source": [
        "def get_GA_HC(hc):\n",
        "    hc = (hc + 7) / 10\n",
        "    ga = 0.0185 * hc * hc + 0.1713 * hc + 11.184\n",
        "    return ga"
      ]
    },
    {
      "cell_type": "markdown",
      "metadata": {
        "id": "OpkSQ-VVnX_h"
      },
      "source": [
        "### Traverse all 3D volumes in fMRI and predict GA by each axial section"
      ]
    },
    {
      "cell_type": "code",
      "execution_count": null,
      "metadata": {
        "execution": {
          "iopub.execute_input": "2023-06-13T16:23:59.365703Z",
          "iopub.status.busy": "2023-06-13T16:23:59.363679Z",
          "iopub.status.idle": "2023-06-13T16:24:04.410193Z",
          "shell.execute_reply": "2023-06-13T16:24:04.407196Z",
          "shell.execute_reply.started": "2023-06-13T16:23:59.365703Z"
        },
        "id": "mMwtJ79tPc8K"
      },
      "outputs": [],
      "source": [
        "import re\n",
        "import matplotlib.pyplot as plt\n",
        "from matplotlib.patches import Rectangle\n",
        "\n",
        "normal_list = []\n",
        "with torch.no_grad():\n",
        "  for idx, test_data in enumerate(test_loader):\n",
        "    ax_dict = {}\n",
        "    test_inputs = test_data[\"image\"].to(cfg.device)\n",
        "    test_data[\"pred\"] = sliding_window_inference(\n",
        "      test_inputs, cfg.roi_size, cfg.sw_batch_size, model\n",
        "    )\n",
        "    test_data = [post_transforms(i) for i in decollate_batch(test_data)]\n",
        "    z_index, fod, bpd, perimeter, X, Y, W, H, A, hull = get_GA_Coefficinet(test_data[0]['pred'][0].cpu().numpy())\n",
        "    fmri_name = os.path.basename(test_files[idx]['image'])\n",
        "    pattern = r\"_(\\d+)\\.nii\\.gz\"\n",
        "    ax_dict['FileName'] = re.sub(pattern, '', fmri_name)\n",
        "    ax_dict['pixdim'] = 3.5\n",
        "    ax_dict['Slice'] = z_index\n",
        "    ax_dict['FOD']  = round(ax_dict['pixdim'] * fod, 1)\n",
        "    ax_dict['BPD']  = round(ax_dict['pixdim'] * bpd, 1)\n",
        "    ax_dict['HC']  = round(ax_dict['pixdim'] * perimeter, 1)\n",
        "    ax_dict['GA'] = get_GA_HC(ax_dict['HC'])\n",
        "    normal_list.append(ax_dict)\n",
        "\n",
        "    # Debug\n",
        "    # ax_image = test_data[0]['image'][0].cpu().numpy()[..., z_index]\n",
        "    # ax_mask =  test_data[0]['pred'][0].cpu().numpy()[..., z_index]\n",
        "\n",
        "    # rect = Rectangle((X, Y), W, H, angle=A, edgecolor='y', facecolor='none')\n",
        "    # fig, ax = plt.subplots()\n",
        "    # ax.imshow(ax_image * ax_mask, cmap=\"gray\")\n",
        "    # ax.plot(hull[:,0,0], hull[:,0,1], 'r', linewidth=1)\n",
        "    # ax.add_patch(rect)\n",
        "    # ax.set_title(f\"{ax_dict['FileName']}\\nFOD={ax_dict['FOD']:.0f}mm BPD={ax_dict['BPD']:.0f}mm HC={ax_dict['HC']:.0f}mm GA={ax_dict['GA']:.3f}weeks\")\n",
        "    # plt.show()\n"
      ]
    },
    {
      "cell_type": "markdown",
      "source": [
        "## Estimated gestational age result"
      ],
      "metadata": {
        "id": "Guk69T--R7M2"
      }
    },
    {
      "cell_type": "code",
      "execution_count": null,
      "metadata": {
        "execution": {
          "iopub.execute_input": "2023-06-13T16:32:23.864330Z",
          "iopub.status.busy": "2023-06-13T16:32:23.863330Z",
          "iopub.status.idle": "2023-06-13T16:32:23.907366Z",
          "shell.execute_reply": "2023-06-13T16:32:23.905371Z",
          "shell.execute_reply.started": "2023-06-13T16:32:23.864330Z"
        },
        "id": "MV17EctDnX_i"
      },
      "outputs": [],
      "source": [
        "import pandas as pd\n",
        "\n",
        "normal_df = pd.DataFrame.from_dict(normal_list)\n",
        "grouped = normal_df.groupby('FileName')\n",
        "for key, group in grouped:\n",
        "  print(key, end=\": \")\n",
        "  median_ga = group['GA'].median()\n",
        "  week = int(median_ga)\n",
        "  day = int((median_ga - week) * 7)\n",
        "  print(f\"{week} weeks {day} days\")\n",
        "\n",
        "# Debug\n",
        "# display(normal_df)"
      ]
    }
  ],
  "metadata": {
    "accelerator": "GPU",
    "colab": {
      "gpuType": "T4",
      "provenance": [],
      "include_colab_link": true
    },
    "kernelspec": {
      "display_name": "Python 3",
      "name": "python3"
    },
    "language_info": {
      "codemirror_mode": {
        "name": "ipython",
        "version": 3
      },
      "file_extension": ".py",
      "mimetype": "text/x-python",
      "name": "python",
      "nbconvert_exporter": "python",
      "pygments_lexer": "ipython3",
      "version": "3.9.16"
    }
  },
  "nbformat": 4,
  "nbformat_minor": 0
}